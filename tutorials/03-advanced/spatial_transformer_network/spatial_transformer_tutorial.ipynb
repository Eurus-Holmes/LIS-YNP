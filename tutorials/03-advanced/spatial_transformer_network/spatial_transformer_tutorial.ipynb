{
  "nbformat": 4,
  "nbformat_minor": 0,
  "metadata": {
    "colab": {
      "name": "spatial_transformer_tutorial.ipynb",
      "version": "0.3.2",
      "provenance": [],
      "include_colab_link": true
    },
    "language_info": {
      "codemirror_mode": {
        "name": "ipython",
        "version": 3
      },
      "file_extension": ".py",
      "mimetype": "text/x-python",
      "name": "python",
      "nbconvert_exporter": "python",
      "pygments_lexer": "ipython3",
      "version": "3.6.6"
    },
    "kernelspec": {
      "name": "python3",
      "display_name": "Python 3"
    },
    "accelerator": "GPU"
  },
  "cells": [
    {
      "cell_type": "markdown",
      "metadata": {
        "id": "view-in-github",
        "colab_type": "text"
      },
      "source": [
        "<a href=\"https://colab.research.google.com/github/Eurus-Holmes/PyTorch-Tutorials/blob/master/spatial_transformer_tutorial.ipynb\" target=\"_parent\"><img src=\"https://colab.research.google.com/assets/colab-badge.svg\" alt=\"Open In Colab\"/></a>"
      ]
    },
    {
      "cell_type": "code",
      "metadata": {
        "id": "cvrFXVRxEDkM",
        "colab_type": "code",
        "colab": {}
      },
      "source": [
        "%matplotlib inline"
      ],
      "execution_count": 0,
      "outputs": []
    },
    {
      "cell_type": "markdown",
      "metadata": {
        "id": "mi2PAjRsEDkQ",
        "colab_type": "text"
      },
      "source": [
        "\n",
        "Spatial Transformer Networks Tutorial\n",
        "=====================================\n",
        "**Author**: `Ghassen HAMROUNI <https://github.com/GHamrouni>`_\n",
        "\n",
        ".. figure:: /_static/img/stn/FSeq.png\n",
        "\n",
        "In this tutorial, you will learn how to augment your network using\n",
        "a visual attention mechanism called spatial transformer\n",
        "networks. You can read more about the spatial transformer\n",
        "networks in the `DeepMind paper <https://arxiv.org/abs/1506.02025>`__\n",
        "\n",
        "Spatial transformer networks are a generalization of differentiable\n",
        "attention to any spatial transformation. Spatial transformer networks\n",
        "(STN for short) allow a neural network to learn how to perform spatial\n",
        "transformations on the input image in order to enhance the geometric\n",
        "invariance of the model.\n",
        "For example, it can crop a region of interest, scale and correct\n",
        "the orientation of an image. It can be a useful mechanism because CNNs\n",
        "are not invariant to rotation and scale and more general affine\n",
        "transformations.\n",
        "\n",
        "One of the best things about STN is the ability to simply plug it into\n",
        "any existing CNN with very little modification.\n",
        "\n"
      ]
    },
    {
      "cell_type": "code",
      "metadata": {
        "id": "OjuiWfqgEDkR",
        "colab_type": "code",
        "colab": {}
      },
      "source": [
        "# License: BSD\n",
        "# Author: Ghassen Hamrouni\n",
        "\n",
        "from __future__ import print_function\n",
        "import torch\n",
        "import torch.nn as nn\n",
        "import torch.nn.functional as F\n",
        "import torch.optim as optim\n",
        "import torchvision\n",
        "from torchvision import datasets, transforms\n",
        "import matplotlib.pyplot as plt\n",
        "import numpy as np\n",
        "\n",
        "plt.ion()   # interactive mode"
      ],
      "execution_count": 0,
      "outputs": []
    },
    {
      "cell_type": "markdown",
      "metadata": {
        "id": "pNL8rcFUEDkT",
        "colab_type": "text"
      },
      "source": [
        "Loading the data\n",
        "----------------\n",
        "\n",
        "In this post we experiment with the classic MNIST dataset. Using a\n",
        "standard convolutional network augmented with a spatial transformer\n",
        "network.\n",
        "\n"
      ]
    },
    {
      "cell_type": "code",
      "metadata": {
        "id": "RCBJ1LdxEDkU",
        "colab_type": "code",
        "colab": {}
      },
      "source": [
        "device = torch.device(\"cuda\" if torch.cuda.is_available() else \"cpu\")\n",
        "\n",
        "# Training dataset\n",
        "train_loader = torch.utils.data.DataLoader(\n",
        "    datasets.MNIST(root='.', train=True, download=True,\n",
        "                   transform=transforms.Compose([\n",
        "                       transforms.ToTensor(),\n",
        "                       transforms.Normalize((0.1307,), (0.3081,))\n",
        "                   ])), batch_size=64, shuffle=True, num_workers=4)\n",
        "# Test dataset\n",
        "test_loader = torch.utils.data.DataLoader(\n",
        "    datasets.MNIST(root='.', train=False, transform=transforms.Compose([\n",
        "        transforms.ToTensor(),\n",
        "        transforms.Normalize((0.1307,), (0.3081,))\n",
        "    ])), batch_size=64, shuffle=True, num_workers=4)"
      ],
      "execution_count": 0,
      "outputs": []
    },
    {
      "cell_type": "markdown",
      "metadata": {
        "id": "j5ubzJ1fEDkV",
        "colab_type": "text"
      },
      "source": [
        "Depicting spatial transformer networks\n",
        "--------------------------------------\n",
        "\n",
        "Spatial transformer networks boils down to three main components :\n",
        "\n",
        "-  The localization network is a regular CNN which regresses the\n",
        "   transformation parameters. The transformation is never learned\n",
        "   explicitly from this dataset, instead the network learns automatically\n",
        "   the spatial transformations that enhances the global accuracy.\n",
        "-  The grid generator generates a grid of coordinates in the input\n",
        "   image corresponding to each pixel from the output image.\n",
        "-  The sampler uses the parameters of the transformation and applies\n",
        "   it to the input image.\n",
        "\n",
        ".. figure:: /_static/img/stn/stn-arch.png\n",
        "\n",
        ".. Note::\n",
        "   We need the latest version of PyTorch that contains\n",
        "   affine_grid and grid_sample modules.\n",
        "\n",
        "\n"
      ]
    },
    {
      "cell_type": "code",
      "metadata": {
        "id": "FgI0PmGQEDkW",
        "colab_type": "code",
        "colab": {}
      },
      "source": [
        "class Net(nn.Module):\n",
        "    def __init__(self):\n",
        "        super(Net, self).__init__()\n",
        "        self.conv1 = nn.Conv2d(1, 10, kernel_size=5)\n",
        "        self.conv2 = nn.Conv2d(10, 20, kernel_size=5)\n",
        "        self.conv2_drop = nn.Dropout2d()\n",
        "        self.fc1 = nn.Linear(320, 50)\n",
        "        self.fc2 = nn.Linear(50, 10)\n",
        "\n",
        "        # Spatial transformer localization-network\n",
        "        self.localization = nn.Sequential(\n",
        "            nn.Conv2d(1, 8, kernel_size=7),\n",
        "            nn.MaxPool2d(2, stride=2),\n",
        "            nn.ReLU(True),\n",
        "            nn.Conv2d(8, 10, kernel_size=5),\n",
        "            nn.MaxPool2d(2, stride=2),\n",
        "            nn.ReLU(True)\n",
        "        )\n",
        "\n",
        "        # Regressor for the 3 * 2 affine matrix\n",
        "        self.fc_loc = nn.Sequential(\n",
        "            nn.Linear(10 * 3 * 3, 32),\n",
        "            nn.ReLU(True),\n",
        "            nn.Linear(32, 3 * 2)\n",
        "        )\n",
        "\n",
        "        # Initialize the weights/bias with identity transformation\n",
        "        self.fc_loc[2].weight.data.zero_()\n",
        "        self.fc_loc[2].bias.data.copy_(torch.tensor([1, 0, 0, 0, 1, 0], dtype=torch.float))\n",
        "\n",
        "    # Spatial transformer network forward function\n",
        "    def stn(self, x):\n",
        "        xs = self.localization(x)\n",
        "        xs = xs.view(-1, 10 * 3 * 3)\n",
        "        theta = self.fc_loc(xs)\n",
        "        theta = theta.view(-1, 2, 3)\n",
        "\n",
        "        grid = F.affine_grid(theta, x.size())\n",
        "        x = F.grid_sample(x, grid)\n",
        "\n",
        "        return x\n",
        "\n",
        "    def forward(self, x):\n",
        "        # transform the input\n",
        "        x = self.stn(x)\n",
        "\n",
        "        # Perform the usual forward pass\n",
        "        x = F.relu(F.max_pool2d(self.conv1(x), 2))\n",
        "        x = F.relu(F.max_pool2d(self.conv2_drop(self.conv2(x)), 2))\n",
        "        x = x.view(-1, 320)\n",
        "        x = F.relu(self.fc1(x))\n",
        "        x = F.dropout(x, training=self.training)\n",
        "        x = self.fc2(x)\n",
        "        return F.log_softmax(x, dim=1)\n",
        "\n",
        "\n",
        "model = Net().to(device)"
      ],
      "execution_count": 0,
      "outputs": []
    },
    {
      "cell_type": "markdown",
      "metadata": {
        "id": "OlL52nM6EDkY",
        "colab_type": "text"
      },
      "source": [
        "Training the model\n",
        "------------------\n",
        "\n",
        "Now, let's use the SGD algorithm to train the model. The network is\n",
        "learning the classification task in a supervised way. In the same time\n",
        "the model is learning STN automatically in an end-to-end fashion.\n",
        "\n"
      ]
    },
    {
      "cell_type": "code",
      "metadata": {
        "id": "xM9a62jhEDkZ",
        "colab_type": "code",
        "colab": {}
      },
      "source": [
        "optimizer = optim.SGD(model.parameters(), lr=0.01)\n",
        "\n",
        "\n",
        "def train(epoch):\n",
        "    model.train()\n",
        "    for batch_idx, (data, target) in enumerate(train_loader):\n",
        "        data, target = data.to(device), target.to(device)\n",
        "\n",
        "        optimizer.zero_grad()\n",
        "        output = model(data)\n",
        "        loss = F.nll_loss(output, target)\n",
        "        loss.backward()\n",
        "        optimizer.step()\n",
        "        if batch_idx % 500 == 0:\n",
        "            print('Train Epoch: {} [{}/{} ({:.0f}%)]\\tLoss: {:.6f}'.format(\n",
        "                epoch, batch_idx * len(data), len(train_loader.dataset),\n",
        "                100. * batch_idx / len(train_loader), loss.item()))\n",
        "#\n",
        "# A simple test procedure to measure STN the performances on MNIST.\n",
        "#\n",
        "\n",
        "\n",
        "def test():\n",
        "    with torch.no_grad():\n",
        "        model.eval()\n",
        "        test_loss = 0\n",
        "        correct = 0\n",
        "        for data, target in test_loader:\n",
        "            data, target = data.to(device), target.to(device)\n",
        "            output = model(data)\n",
        "\n",
        "            # sum up batch loss\n",
        "            test_loss += F.nll_loss(output, target, size_average=False).item()\n",
        "            # get the index of the max log-probability\n",
        "            pred = output.max(1, keepdim=True)[1]\n",
        "            correct += pred.eq(target.view_as(pred)).sum().item()\n",
        "\n",
        "        test_loss /= len(test_loader.dataset)\n",
        "        print('\\nTest set: Average loss: {:.4f}, Accuracy: {}/{} ({:.0f}%)\\n'\n",
        "              .format(test_loss, correct, len(test_loader.dataset),\n",
        "                      100. * correct / len(test_loader.dataset)))"
      ],
      "execution_count": 0,
      "outputs": []
    },
    {
      "cell_type": "markdown",
      "metadata": {
        "id": "7VOvM8ZZEDkc",
        "colab_type": "text"
      },
      "source": [
        "Visualizing the STN results\n",
        "---------------------------\n",
        "\n",
        "Now, we will inspect the results of our learned visual attention\n",
        "mechanism.\n",
        "\n",
        "We define a small helper function in order to visualize the\n",
        "transformations while training.\n",
        "\n"
      ]
    },
    {
      "cell_type": "code",
      "metadata": {
        "id": "INWPrQ1uEDkc",
        "colab_type": "code",
        "colab": {
          "base_uri": "https://localhost:8080/",
          "height": 1970
        },
        "outputId": "9e17bcfb-f52a-4a57-d98f-c2f16589a7e8"
      },
      "source": [
        "def convert_image_np(inp):\n",
        "    \"\"\"Convert a Tensor to numpy image.\"\"\"\n",
        "    inp = inp.numpy().transpose((1, 2, 0))\n",
        "    mean = np.array([0.485, 0.456, 0.406])\n",
        "    std = np.array([0.229, 0.224, 0.225])\n",
        "    inp = std * inp + mean\n",
        "    inp = np.clip(inp, 0, 1)\n",
        "    return inp\n",
        "\n",
        "# We want to visualize the output of the spatial transformers layer\n",
        "# after the training, we visualize a batch of input images and\n",
        "# the corresponding transformed batch using STN.\n",
        "\n",
        "\n",
        "def visualize_stn():\n",
        "    with torch.no_grad():\n",
        "        # Get a batch of training data\n",
        "        data = next(iter(test_loader))[0].to(device)\n",
        "\n",
        "        input_tensor = data.cpu()\n",
        "        transformed_input_tensor = model.stn(data).cpu()\n",
        "\n",
        "        in_grid = convert_image_np(\n",
        "            torchvision.utils.make_grid(input_tensor))\n",
        "\n",
        "        out_grid = convert_image_np(\n",
        "            torchvision.utils.make_grid(transformed_input_tensor))\n",
        "\n",
        "        # Plot the results side-by-side\n",
        "        f, axarr = plt.subplots(1, 2)\n",
        "        axarr[0].imshow(in_grid)\n",
        "        axarr[0].set_title('Dataset Images')\n",
        "\n",
        "        axarr[1].imshow(out_grid)\n",
        "        axarr[1].set_title('Transformed Images')\n",
        "\n",
        "\n",
        "for epoch in range(1, 20 + 1):\n",
        "    train(epoch)\n",
        "    test()\n",
        "\n",
        "# Visualize the STN transformation on some input batch\n",
        "visualize_stn()\n",
        "\n",
        "plt.ioff()\n",
        "plt.show()"
      ],
      "execution_count": 12,
      "outputs": [
        {
          "output_type": "stream",
          "text": [
            "Train Epoch: 1 [0/60000 (0%)]\tLoss: 2.323041\n",
            "Train Epoch: 1 [32000/60000 (53%)]\tLoss: 1.070700\n"
          ],
          "name": "stdout"
        },
        {
          "output_type": "stream",
          "text": [
            "/usr/local/lib/python3.6/dist-packages/torch/nn/_reduction.py:46: UserWarning: size_average and reduce args will be deprecated, please use reduction='sum' instead.\n",
            "  warnings.warn(warning.format(ret))\n"
          ],
          "name": "stderr"
        },
        {
          "output_type": "stream",
          "text": [
            "\n",
            "Test set: Average loss: 0.2228, Accuracy: 9380/10000 (94%)\n",
            "\n",
            "Train Epoch: 2 [0/60000 (0%)]\tLoss: 0.496635\n",
            "Train Epoch: 2 [32000/60000 (53%)]\tLoss: 0.202981\n",
            "\n",
            "Test set: Average loss: 0.2318, Accuracy: 9266/10000 (93%)\n",
            "\n",
            "Train Epoch: 3 [0/60000 (0%)]\tLoss: 0.422035\n",
            "Train Epoch: 3 [32000/60000 (53%)]\tLoss: 0.381551\n",
            "\n",
            "Test set: Average loss: 0.0967, Accuracy: 9710/10000 (97%)\n",
            "\n",
            "Train Epoch: 4 [0/60000 (0%)]\tLoss: 0.041278\n",
            "Train Epoch: 4 [32000/60000 (53%)]\tLoss: 0.175728\n",
            "\n",
            "Test set: Average loss: 0.1172, Accuracy: 9659/10000 (97%)\n",
            "\n",
            "Train Epoch: 5 [0/60000 (0%)]\tLoss: 0.350597\n",
            "Train Epoch: 5 [32000/60000 (53%)]\tLoss: 0.498956\n",
            "\n",
            "Test set: Average loss: 0.0979, Accuracy: 9710/10000 (97%)\n",
            "\n",
            "Train Epoch: 6 [0/60000 (0%)]\tLoss: 0.199039\n",
            "Train Epoch: 6 [32000/60000 (53%)]\tLoss: 0.208250\n",
            "\n",
            "Test set: Average loss: 0.0621, Accuracy: 9810/10000 (98%)\n",
            "\n",
            "Train Epoch: 7 [0/60000 (0%)]\tLoss: 0.367445\n",
            "Train Epoch: 7 [32000/60000 (53%)]\tLoss: 0.212987\n",
            "\n",
            "Test set: Average loss: 0.0603, Accuracy: 9816/10000 (98%)\n",
            "\n",
            "Train Epoch: 8 [0/60000 (0%)]\tLoss: 0.238150\n",
            "Train Epoch: 8 [32000/60000 (53%)]\tLoss: 0.105397\n",
            "\n",
            "Test set: Average loss: 0.0653, Accuracy: 9812/10000 (98%)\n",
            "\n",
            "Train Epoch: 9 [0/60000 (0%)]\tLoss: 0.248694\n",
            "Train Epoch: 9 [32000/60000 (53%)]\tLoss: 0.086615\n",
            "\n",
            "Test set: Average loss: 0.0536, Accuracy: 9825/10000 (98%)\n",
            "\n",
            "Train Epoch: 10 [0/60000 (0%)]\tLoss: 0.128454\n",
            "Train Epoch: 10 [32000/60000 (53%)]\tLoss: 0.153521\n",
            "\n",
            "Test set: Average loss: 0.0526, Accuracy: 9841/10000 (98%)\n",
            "\n",
            "Train Epoch: 11 [0/60000 (0%)]\tLoss: 0.131456\n",
            "Train Epoch: 11 [32000/60000 (53%)]\tLoss: 0.080585\n",
            "\n",
            "Test set: Average loss: 0.0480, Accuracy: 9863/10000 (99%)\n",
            "\n",
            "Train Epoch: 12 [0/60000 (0%)]\tLoss: 0.066106\n",
            "Train Epoch: 12 [32000/60000 (53%)]\tLoss: 0.204523\n",
            "\n",
            "Test set: Average loss: 0.0507, Accuracy: 9848/10000 (98%)\n",
            "\n",
            "Train Epoch: 13 [0/60000 (0%)]\tLoss: 0.102243\n",
            "Train Epoch: 13 [32000/60000 (53%)]\tLoss: 0.038294\n",
            "\n",
            "Test set: Average loss: 0.0543, Accuracy: 9850/10000 (98%)\n",
            "\n",
            "Train Epoch: 14 [0/60000 (0%)]\tLoss: 0.109191\n",
            "Train Epoch: 14 [32000/60000 (53%)]\tLoss: 0.034303\n",
            "\n",
            "Test set: Average loss: 0.0656, Accuracy: 9794/10000 (98%)\n",
            "\n",
            "Train Epoch: 15 [0/60000 (0%)]\tLoss: 0.259922\n",
            "Train Epoch: 15 [32000/60000 (53%)]\tLoss: 0.116720\n",
            "\n",
            "Test set: Average loss: 0.0451, Accuracy: 9864/10000 (99%)\n",
            "\n",
            "Train Epoch: 16 [0/60000 (0%)]\tLoss: 0.043364\n",
            "Train Epoch: 16 [32000/60000 (53%)]\tLoss: 0.067063\n",
            "\n",
            "Test set: Average loss: 0.0638, Accuracy: 9828/10000 (98%)\n",
            "\n",
            "Train Epoch: 17 [0/60000 (0%)]\tLoss: 0.179573\n",
            "Train Epoch: 17 [32000/60000 (53%)]\tLoss: 0.057824\n",
            "\n",
            "Test set: Average loss: 0.0465, Accuracy: 9863/10000 (99%)\n",
            "\n",
            "Train Epoch: 18 [0/60000 (0%)]\tLoss: 0.035433\n",
            "Train Epoch: 18 [32000/60000 (53%)]\tLoss: 0.144730\n",
            "\n",
            "Test set: Average loss: 0.0507, Accuracy: 9861/10000 (99%)\n",
            "\n",
            "Train Epoch: 19 [0/60000 (0%)]\tLoss: 0.199269\n",
            "Train Epoch: 19 [32000/60000 (53%)]\tLoss: 0.136273\n",
            "\n",
            "Test set: Average loss: 0.0448, Accuracy: 9875/10000 (99%)\n",
            "\n",
            "Train Epoch: 20 [0/60000 (0%)]\tLoss: 0.026595\n",
            "Train Epoch: 20 [32000/60000 (53%)]\tLoss: 0.027877\n",
            "\n",
            "Test set: Average loss: 0.0482, Accuracy: 9865/10000 (99%)\n",
            "\n"
          ],
          "name": "stdout"
        },
        {
          "output_type": "display_data",
          "data": {
            "image/png": "[encoded data removed]",
            "text/plain": [
              "<Figure size 432x288 with 2 Axes>"
            ]
          },
          "metadata": {
            "tags": []
          }
        }
      ]
    }
  ]
}
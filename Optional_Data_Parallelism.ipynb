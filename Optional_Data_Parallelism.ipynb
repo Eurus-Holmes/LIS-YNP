{
  "nbformat": 4,
  "nbformat_minor": 0,
  "metadata": {
    "colab": {
      "name": "Optional_Data_Parallelism.ipynb",
      "version": "0.3.2",
      "provenance": [],
      "include_colab_link": true
    },
    "language_info": {
      "codemirror_mode": {
        "name": "ipython",
        "version": 3
      },
      "file_extension": ".py",
      "mimetype": "text/x-python",
      "name": "python",
      "nbconvert_exporter": "python",
      "pygments_lexer": "ipython3",
      "version": "3.6.6"
    },
    "kernelspec": {
      "name": "python3",
      "display_name": "Python 3"
    },
    "accelerator": "GPU"
  },
  "cells": [
    {
      "cell_type": "markdown",
      "metadata": {
        "id": "view-in-github",
        "colab_type": "text"
      },
      "source": [
        "<a href=\"https://colab.research.google.com/github/Eurus-Holmes/PyTorch-Tutorials/blob/master/Optional_Data_Parallelism.ipynb\" target=\"_parent\"><img src=\"https://colab.research.google.com/assets/colab-badge.svg\" alt=\"Open In Colab\"/></a>"
      ]
    },
    {
      "metadata": {
        "id": "ongJfGg4bvoR",
        "colab_type": "code",
        "colab": {}
      },
      "cell_type": "code",
      "source": [
        "%matplotlib inline"
      ],
      "execution_count": 0,
      "outputs": []
    },
    {
      "metadata": {
        "id": "FreOygGjbvoV",
        "colab_type": "text"
      },
      "cell_type": "markdown",
      "source": [
        "\n",
        "Optional: Data Parallelism\n",
        "==========================\n",
        "**Authors**: `Sung Kim <https://github.com/hunkim>`_ and `Jenny Kang <https://github.com/jennykang>`_\n",
        "\n",
        "In this tutorial, we will learn how to use multiple GPUs using ``DataParallel``.\n",
        "\n",
        "It's very easy to use GPUs with PyTorch. You can put the model on a GPU:\n",
        "\n",
        ".. code:: python\n",
        "\n",
        "    device = torch.device(\"cuda:0\")\n",
        "    model.to(device)\n",
        "\n",
        "Then, you can copy all your tensors to the GPU:\n",
        "\n",
        ".. code:: python\n",
        "\n",
        "    mytensor = my_tensor.to(device)\n",
        "\n",
        "Please note that just calling ``my_tensor.to(device)`` returns a new copy of\n",
        "``my_tensor`` on GPU instead of rewriting ``my_tensor``. You need to assign it to\n",
        "a new tensor and use that tensor on the GPU.\n",
        "\n",
        "It's natural to execute your forward, backward propagations on multiple GPUs.\n",
        "However, Pytorch will only use one GPU by default. You can easily run your\n",
        "operations on multiple GPUs by making your model run parallelly using\n",
        "``DataParallel``:\n",
        "\n",
        ".. code:: python\n",
        "\n",
        "    model = nn.DataParallel(model)\n",
        "\n",
        "That's the core behind this tutorial. We will explore it in more detail below.\n",
        "\n"
      ]
    },
    {
      "metadata": {
        "id": "bCE8SQoybvoW",
        "colab_type": "text"
      },
      "cell_type": "markdown",
      "source": [
        "Imports and parameters\n",
        "----------------------\n",
        "\n",
        "Import PyTorch modules and define parameters.\n",
        "\n",
        "\n"
      ]
    },
    {
      "metadata": {
        "id": "Rq0k_0MQbvoX",
        "colab_type": "code",
        "colab": {}
      },
      "cell_type": "code",
      "source": [
        "import torch\n",
        "import torch.nn as nn\n",
        "from torch.utils.data import Dataset, DataLoader\n",
        "\n",
        "# Parameters and DataLoaders\n",
        "input_size = 5\n",
        "output_size = 2\n",
        "\n",
        "batch_size = 30\n",
        "data_size = 100"
      ],
      "execution_count": 0,
      "outputs": []
    },
    {
      "metadata": {
        "id": "TGkJJduzbvoZ",
        "colab_type": "text"
      },
      "cell_type": "markdown",
      "source": [
        "Device\n",
        "\n",
        "\n"
      ]
    },
    {
      "metadata": {
        "id": "xETfFh5Kbvoa",
        "colab_type": "code",
        "colab": {}
      },
      "cell_type": "code",
      "source": [
        "device = torch.device(\"cuda:0\" if torch.cuda.is_available() else \"cpu\")"
      ],
      "execution_count": 0,
      "outputs": []
    },
    {
      "metadata": {
        "id": "5Or39pDQbvod",
        "colab_type": "text"
      },
      "cell_type": "markdown",
      "source": [
        "Dummy DataSet\n",
        "-------------\n",
        "\n",
        "Make a dummy (random) dataset. You just need to implement the\n",
        "getitem\n",
        "\n",
        "\n"
      ]
    },
    {
      "metadata": {
        "id": "NEeoDXh4bvoe",
        "colab_type": "code",
        "colab": {}
      },
      "cell_type": "code",
      "source": [
        "class RandomDataset(Dataset):\n",
        "\n",
        "    def __init__(self, size, length):\n",
        "        self.len = length\n",
        "        self.data = torch.randn(length, size)\n",
        "\n",
        "    def __getitem__(self, index):\n",
        "        return self.data[index]\n",
        "\n",
        "    def __len__(self):\n",
        "        return self.len\n",
        "\n",
        "rand_loader = DataLoader(dataset=RandomDataset(input_size, data_size),\n",
        "                         batch_size=batch_size, shuffle=True)"
      ],
      "execution_count": 0,
      "outputs": []
    },
    {
      "metadata": {
        "id": "IYSyuj3Rbvof",
        "colab_type": "text"
      },
      "cell_type": "markdown",
      "source": [
        "Simple Model\n",
        "------------\n",
        "\n",
        "For the demo, our model just gets an input, performs a linear operation, and\n",
        "gives an output. However, you can use ``DataParallel`` on any model (CNN, RNN,\n",
        "Capsule Net etc.)\n",
        "\n",
        "We've placed a print statement inside the model to monitor the size of input\n",
        "and output tensors.\n",
        "Please pay attention to what is printed at batch rank 0.\n",
        "\n",
        "\n"
      ]
    },
    {
      "metadata": {
        "id": "J1PJWzbrbvog",
        "colab_type": "code",
        "colab": {}
      },
      "cell_type": "code",
      "source": [
        "class Model(nn.Module):\n",
        "    # Our model\n",
        "\n",
        "    def __init__(self, input_size, output_size):\n",
        "        super(Model, self).__init__()\n",
        "        self.fc = nn.Linear(input_size, output_size)\n",
        "\n",
        "    def forward(self, input):\n",
        "        output = self.fc(input)\n",
        "        print(\"\\tIn Model: input size\", input.size(),\n",
        "              \"output size\", output.size())\n",
        "\n",
        "        return output"
      ],
      "execution_count": 0,
      "outputs": []
    },
    {
      "metadata": {
        "id": "85Ztf-3Ubvoi",
        "colab_type": "text"
      },
      "cell_type": "markdown",
      "source": [
        "Create Model and DataParallel\n",
        "-----------------------------\n",
        "\n",
        "This is the core part of the tutorial. First, we need to make a model instance\n",
        "and check if we have multiple GPUs. If we have multiple GPUs, we can wrap\n",
        "our model using ``nn.DataParallel``. Then we can put our model on GPUs by\n",
        "``model.to(device)``\n",
        "\n",
        "\n"
      ]
    },
    {
      "metadata": {
        "id": "NUUVjEp-bvoi",
        "colab_type": "code",
        "colab": {
          "base_uri": "https://localhost:8080/",
          "height": 68
        },
        "outputId": "da42fb2b-5122-4581-82d1-b100932b8178"
      },
      "cell_type": "code",
      "source": [
        "model = Model(input_size, output_size)\n",
        "if torch.cuda.device_count() > 1:\n",
        "  print(\"Let's use\", torch.cuda.device_count(), \"GPUs!\")\n",
        "  # dim = 0 [30, xxx] -> [10, ...], [10, ...], [10, ...] on 3 GPUs\n",
        "  model = nn.DataParallel(model)\n",
        "\n",
        "model.to(device)"
      ],
      "execution_count": 6,
      "outputs": [
        {
          "output_type": "execute_result",
          "data": {
            "text/plain": [
              "Model(\n",
              "  (fc): Linear(in_features=5, out_features=2, bias=True)\n",
              ")"
            ]
          },
          "metadata": {
            "tags": []
          },
          "execution_count": 6
        }
      ]
    },
    {
      "metadata": {
        "id": "GmMsnDqSbvok",
        "colab_type": "text"
      },
      "cell_type": "markdown",
      "source": [
        "Run the Model\n",
        "-------------\n",
        "\n",
        "Now we can see the sizes of input and output tensors.\n",
        "\n",
        "\n"
      ]
    },
    {
      "metadata": {
        "id": "MKOOrZEGbvol",
        "colab_type": "code",
        "colab": {
          "base_uri": "https://localhost:8080/",
          "height": 153
        },
        "outputId": "ab0c08a4-7563-491c-a4f1-e82bddbbea52"
      },
      "cell_type": "code",
      "source": [
        "for data in rand_loader:\n",
        "    input = data.to(device)\n",
        "    output = model(input)\n",
        "    print(\"Outside: input size\", input.size(),\n",
        "          \"output_size\", output.size())"
      ],
      "execution_count": 7,
      "outputs": [
        {
          "output_type": "stream",
          "text": [
            "\tIn Model: input size torch.Size([30, 5]) output size torch.Size([30, 2])\n",
            "Outside: input size torch.Size([30, 5]) output_size torch.Size([30, 2])\n",
            "\tIn Model: input size torch.Size([30, 5]) output size torch.Size([30, 2])\n",
            "Outside: input size torch.Size([30, 5]) output_size torch.Size([30, 2])\n",
            "\tIn Model: input size torch.Size([30, 5]) output size torch.Size([30, 2])\n",
            "Outside: input size torch.Size([30, 5]) output_size torch.Size([30, 2])\n",
            "\tIn Model: input size torch.Size([10, 5]) output size torch.Size([10, 2])\n",
            "Outside: input size torch.Size([10, 5]) output_size torch.Size([10, 2])\n"
          ],
          "name": "stdout"
        }
      ]
    },
    {
      "metadata": {
        "id": "D9cmer6obvop",
        "colab_type": "text"
      },
      "cell_type": "markdown",
      "source": [
        "Results\n",
        "-------\n",
        "\n",
        "If you have no GPU or one GPU, when we batch 30 inputs and 30 outputs, the model gets 30 and outputs 30 as\n",
        "expected. But if you have multiple GPUs, then you can get results like this.\n",
        "\n",
        "2 GPUs\n",
        "~~~~~~\n",
        "\n",
        "If you have 2, you will see:\n",
        "\n",
        ".. code:: bash\n",
        "\n",
        "    # on 2 GPUs\n",
        "    Let's use 2 GPUs!\n",
        "        In Model: input size torch.Size([15, 5]) output size torch.Size([15, 2])\n",
        "        In Model: input size torch.Size([15, 5]) output size torch.Size([15, 2])\n",
        "    Outside: input size torch.Size([30, 5]) output_size torch.Size([30, 2])\n",
        "        In Model: input size torch.Size([15, 5]) output size torch.Size([15, 2])\n",
        "        In Model: input size torch.Size([15, 5]) output size torch.Size([15, 2])\n",
        "    Outside: input size torch.Size([30, 5]) output_size torch.Size([30, 2])\n",
        "        In Model: input size torch.Size([15, 5]) output size torch.Size([15, 2])\n",
        "        In Model: input size torch.Size([15, 5]) output size torch.Size([15, 2])\n",
        "    Outside: input size torch.Size([30, 5]) output_size torch.Size([30, 2])\n",
        "        In Model: input size torch.Size([5, 5]) output size torch.Size([5, 2])\n",
        "        In Model: input size torch.Size([5, 5]) output size torch.Size([5, 2])\n",
        "    Outside: input size torch.Size([10, 5]) output_size torch.Size([10, 2])\n",
        "\n",
        "3 GPUs\n",
        "~~~~~~\n",
        "\n",
        "If you have 3 GPUs, you will see:\n",
        "\n",
        ".. code:: bash\n",
        "\n",
        "    Let's use 3 GPUs!\n",
        "        In Model: input size torch.Size([10, 5]) output size torch.Size([10, 2])\n",
        "        In Model: input size torch.Size([10, 5]) output size torch.Size([10, 2])\n",
        "        In Model: input size torch.Size([10, 5]) output size torch.Size([10, 2])\n",
        "    Outside: input size torch.Size([30, 5]) output_size torch.Size([30, 2])\n",
        "        In Model: input size torch.Size([10, 5]) output size torch.Size([10, 2])\n",
        "        In Model: input size torch.Size([10, 5]) output size torch.Size([10, 2])\n",
        "        In Model: input size torch.Size([10, 5]) output size torch.Size([10, 2])\n",
        "    Outside: input size torch.Size([30, 5]) output_size torch.Size([30, 2])\n",
        "        In Model: input size torch.Size([10, 5]) output size torch.Size([10, 2])\n",
        "        In Model: input size torch.Size([10, 5]) output size torch.Size([10, 2])\n",
        "        In Model: input size torch.Size([10, 5]) output size torch.Size([10, 2])\n",
        "    Outside: input size torch.Size([30, 5]) output_size torch.Size([30, 2])\n",
        "        In Model: input size torch.Size([4, 5]) output size torch.Size([4, 2])\n",
        "        In Model: input size torch.Size([4, 5]) output size torch.Size([4, 2])\n",
        "        In Model: input size torch.Size([2, 5]) output size torch.Size([2, 2])\n",
        "    Outside: input size torch.Size([10, 5]) output_size torch.Size([10, 2])\n",
        "\n",
        "8 GPUs\n",
        "~~~~~~~~~~~~~~\n",
        "\n",
        "If you have 8, you will see:\n",
        "\n",
        ".. code:: bash\n",
        "\n",
        "    Let's use 8 GPUs!\n",
        "        In Model: input size torch.Size([4, 5]) output size torch.Size([4, 2])\n",
        "        In Model: input size torch.Size([4, 5]) output size torch.Size([4, 2])\n",
        "        In Model: input size torch.Size([2, 5]) output size torch.Size([2, 2])\n",
        "        In Model: input size torch.Size([4, 5]) output size torch.Size([4, 2])\n",
        "        In Model: input size torch.Size([4, 5]) output size torch.Size([4, 2])\n",
        "        In Model: input size torch.Size([4, 5]) output size torch.Size([4, 2])\n",
        "        In Model: input size torch.Size([4, 5]) output size torch.Size([4, 2])\n",
        "        In Model: input size torch.Size([4, 5]) output size torch.Size([4, 2])\n",
        "    Outside: input size torch.Size([30, 5]) output_size torch.Size([30, 2])\n",
        "        In Model: input size torch.Size([4, 5]) output size torch.Size([4, 2])\n",
        "        In Model: input size torch.Size([4, 5]) output size torch.Size([4, 2])\n",
        "        In Model: input size torch.Size([4, 5]) output size torch.Size([4, 2])\n",
        "        In Model: input size torch.Size([4, 5]) output size torch.Size([4, 2])\n",
        "        In Model: input size torch.Size([4, 5]) output size torch.Size([4, 2])\n",
        "        In Model: input size torch.Size([4, 5]) output size torch.Size([4, 2])\n",
        "        In Model: input size torch.Size([2, 5]) output size torch.Size([2, 2])\n",
        "        In Model: input size torch.Size([4, 5]) output size torch.Size([4, 2])\n",
        "    Outside: input size torch.Size([30, 5]) output_size torch.Size([30, 2])\n",
        "        In Model: input size torch.Size([4, 5]) output size torch.Size([4, 2])\n",
        "        In Model: input size torch.Size([4, 5]) output size torch.Size([4, 2])\n",
        "        In Model: input size torch.Size([4, 5]) output size torch.Size([4, 2])\n",
        "        In Model: input size torch.Size([4, 5]) output size torch.Size([4, 2])\n",
        "        In Model: input size torch.Size([4, 5]) output size torch.Size([4, 2])\n",
        "        In Model: input size torch.Size([4, 5]) output size torch.Size([4, 2])\n",
        "        In Model: input size torch.Size([4, 5]) output size torch.Size([4, 2])\n",
        "        In Model: input size torch.Size([2, 5]) output size torch.Size([2, 2])\n",
        "    Outside: input size torch.Size([30, 5]) output_size torch.Size([30, 2])\n",
        "        In Model: input size torch.Size([2, 5]) output size torch.Size([2, 2])\n",
        "        In Model: input size torch.Size([2, 5]) output size torch.Size([2, 2])\n",
        "        In Model: input size torch.Size([2, 5]) output size torch.Size([2, 2])\n",
        "        In Model: input size torch.Size([2, 5]) output size torch.Size([2, 2])\n",
        "        In Model: input size torch.Size([2, 5]) output size torch.Size([2, 2])\n",
        "    Outside: input size torch.Size([10, 5]) output_size torch.Size([10, 2])\n",
        "\n",
        "\n"
      ]
    },
    {
      "metadata": {
        "id": "Rr7aOtEFbvoq",
        "colab_type": "text"
      },
      "cell_type": "markdown",
      "source": [
        "Summary\n",
        "-------\n",
        "\n",
        "DataParallel splits your data automatically and sends job orders to multiple\n",
        "models on several GPUs. After each model finishes their job, DataParallel\n",
        "collects and merges the results before returning it to you.\n",
        "\n",
        "For more information, please check out\n",
        "http://pytorch.org/tutorials/beginner/former\\_torchies/parallelism\\_tutorial.html.\n",
        "\n",
        "\n"
      ]
    }
  ]
}